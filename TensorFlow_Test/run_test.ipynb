{
 "cells": [
  {
   "cell_type": "code",
   "execution_count": 24,
   "metadata": {},
   "outputs": [
    {
     "name": "stdout",
     "output_type": "stream",
     "text": [
      "INFO:tensorflow:Saver not created because there are no variables in the graph to restore\n"
     ]
    },
    {
     "name": "stderr",
     "output_type": "stream",
     "text": [
      "INFO:tensorflow:Saver not created because there are no variables in the graph to restore\n"
     ]
    }
   ],
   "source": [
    "import imports as imports\n",
    "import definitions as definitions\n",
    "module_handle = \"https://tfhub.dev/google/faster_rcnn/openimages_v4/inception_resnet_v2/1\" #@param [\"https://tfhub.dev/google/openimages_v4/ssd/mobilenet_v2/1\", \"https://tfhub.dev/google/faster_rcnn/openimages_v4/inception_resnet_v2/1\"]\n",
    "\n",
    "detector = imports.hub.load(module_handle).signatures['default']"
   ]
  },
  {
   "cell_type": "code",
   "execution_count": 20,
   "metadata": {},
   "outputs": [],
   "source": [
    "import load_dataset as ld"
   ]
  },
  {
   "cell_type": "code",
   "execution_count": 28,
   "metadata": {},
   "outputs": [
    {
     "ename": "NameError",
     "evalue": "name 'tempfile' is not defined",
     "output_type": "error",
     "traceback": [
      "\u001b[1;31m---------------------------------------------------------------------------\u001b[0m",
      "\u001b[1;31mNameError\u001b[0m                                 Traceback (most recent call last)",
      "Cell \u001b[1;32mIn[28], line 3\u001b[0m\n\u001b[0;32m      1\u001b[0m \u001b[39m# By Heiko Gorski, Source: https://commons.wikimedia.org/wiki/File:Naxos_Taverna.jpg\u001b[39;00m\n\u001b[0;32m      2\u001b[0m image_url \u001b[39m=\u001b[39m \u001b[39m\"\u001b[39m\u001b[39mhttps://i.natgeofe.com/n/548467d8-c5f1-4551-9f58-6817a8d2c45e/NationalGeographic_2572187_square.jpg\u001b[39m\u001b[39m\"\u001b[39m  \u001b[39m#@param\u001b[39;00m\n\u001b[1;32m----> 3\u001b[0m downloaded_image_path \u001b[39m=\u001b[39m definitions\u001b[39m.\u001b[39;49mdownload_and_resize_image(image_url, \u001b[39m1280\u001b[39;49m, \u001b[39m856\u001b[39;49m, \u001b[39mTrue\u001b[39;49;00m)\n\u001b[0;32m      5\u001b[0m definitions\u001b[39m.\u001b[39mrun_detector(detector, downloaded_image_path)\n",
      "File \u001b[1;32mc:\\Users\\rhoad\\Desktop\\TensorFlow_Test\\definitions.py:9\u001b[0m, in \u001b[0;36mdownload_and_resize_image\u001b[1;34m(url, new_width, new_height, display)\u001b[0m\n\u001b[0;32m      7\u001b[0m \u001b[39mdef\u001b[39;00m \u001b[39mdownload_and_resize_image\u001b[39m(url, new_width\u001b[39m=\u001b[39m\u001b[39m256\u001b[39m, new_height\u001b[39m=\u001b[39m\u001b[39m256\u001b[39m,\n\u001b[0;32m      8\u001b[0m                               display\u001b[39m=\u001b[39m\u001b[39mFalse\u001b[39;00m):\n\u001b[1;32m----> 9\u001b[0m   _, filename \u001b[39m=\u001b[39m tempfile\u001b[39m.\u001b[39mmkstemp(suffix\u001b[39m=\u001b[39m\u001b[39m\"\u001b[39m\u001b[39m.jpg\u001b[39m\u001b[39m\"\u001b[39m)\n\u001b[0;32m     10\u001b[0m   response \u001b[39m=\u001b[39m urlopen(url)\n\u001b[0;32m     11\u001b[0m   image_data \u001b[39m=\u001b[39m response\u001b[39m.\u001b[39mread()\n",
      "\u001b[1;31mNameError\u001b[0m: name 'tempfile' is not defined"
     ]
    }
   ],
   "source": [
    "# By Heiko Gorski, Source: https://commons.wikimedia.org/wiki/File:Naxos_Taverna.jpg\n",
    "image_url = \"https://i.natgeofe.com/n/548467d8-c5f1-4551-9f58-6817a8d2c45e/NationalGeographic_2572187_square.jpg\"  #@param\n",
    "downloaded_image_path = definitions.download_and_resize_image(image_url, 1280, 856, True)\n",
    "\n",
    "definitions.run_detector(detector, downloaded_image_path)"
   ]
  }
 ],
 "metadata": {
  "kernelspec": {
   "display_name": "Python 3",
   "language": "python",
   "name": "python3"
  },
  "language_info": {
   "codemirror_mode": {
    "name": "ipython",
    "version": 3
   },
   "file_extension": ".py",
   "mimetype": "text/x-python",
   "name": "python",
   "nbconvert_exporter": "python",
   "pygments_lexer": "ipython3",
   "version": "3.10.10"
  },
  "orig_nbformat": 4,
  "vscode": {
   "interpreter": {
    "hash": "40ea08e3f2e03a5c11702334d09e4b5f9cec56cf690fdd18abea430a78c1526b"
   }
  }
 },
 "nbformat": 4,
 "nbformat_minor": 2
}
